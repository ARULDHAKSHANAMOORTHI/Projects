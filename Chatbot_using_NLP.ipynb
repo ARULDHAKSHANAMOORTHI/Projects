{
  "nbformat": 4,
  "nbformat_minor": 0,
  "metadata": {
    "colab": {
      "provenance": [],
      "authorship_tag": "ABX9TyPoZlM7ub64H8L4yU28Fm4g",
      "include_colab_link": true
    },
    "kernelspec": {
      "name": "python3",
      "display_name": "Python 3"
    },
    "language_info": {
      "name": "python"
    }
  },
  "cells": [
    {
      "cell_type": "markdown",
      "metadata": {
        "id": "view-in-github",
        "colab_type": "text"
      },
      "source": [
        "<a href=\"https://colab.research.google.com/github/ARULDHAKSHANAMOORTHI/Projects/blob/main/Chatbot_using_NLP.ipynb\" target=\"_parent\"><img src=\"https://colab.research.google.com/assets/colab-badge.svg\" alt=\"Open In Colab\"/></a>"
      ]
    },
    {
      "cell_type": "code",
      "execution_count": null,
      "metadata": {
        "colab": {
          "base_uri": "https://localhost:8080/"
        },
        "id": "zoWfwIBA2bFi",
        "outputId": "07d9991b-b1d3-46f6-eddc-0e2bf0843f09"
      },
      "outputs": [
        {
          "output_type": "stream",
          "name": "stderr",
          "text": [
            "[nltk_data] Downloading package punkt to /root/nltk_data...\n",
            "[nltk_data]   Unzipping tokenizers/punkt.zip.\n"
          ]
        }
      ],
      "source": [
        "#Libraries needed for NLP\n",
        "import nltk\n",
        "nltk.download('punkt')\n",
        "from nltk.stem import PorterStemmer\n",
        "stemmer=PorterStemmer()"
      ]
    },
    {
      "cell_type": "code",
      "source": [
        "#libraries needed for tensor flow\n",
        "import tensorflow as tf\n",
        "import numpy as np\n",
        "import random\n",
        "import json"
      ],
      "metadata": {
        "id": "cZVJGZSC3uGM"
      },
      "execution_count": null,
      "outputs": []
    },
    {
      "cell_type": "code",
      "source": [
        "#load intents.json file from computer\n",
        "from google.colab import files\n",
        "files.upload()\n",
        "#import our chatbot intent files\n",
        "with open('intents.json') as json_data:\n",
        "  intents=json.load(json_data)"
      ],
      "metadata": {
        "colab": {
          "base_uri": "https://localhost:8080/",
          "height": 73
        },
        "id": "ojxtWvUy_NU1",
        "outputId": "d7e10187-83f3-44b3-804d-950ffdc16a2b"
      },
      "execution_count": null,
      "outputs": [
        {
          "output_type": "display_data",
          "data": {
            "text/plain": [
              "<IPython.core.display.HTML object>"
            ],
            "text/html": [
              "\n",
              "     <input type=\"file\" id=\"files-17deebd9-36ce-4f07-8736-4353fcab0df7\" name=\"files[]\" multiple disabled\n",
              "        style=\"border:none\" />\n",
              "     <output id=\"result-17deebd9-36ce-4f07-8736-4353fcab0df7\">\n",
              "      Upload widget is only available when the cell has been executed in the\n",
              "      current browser session. Please rerun this cell to enable.\n",
              "      </output>\n",
              "      <script>// Copyright 2017 Google LLC\n",
              "//\n",
              "// Licensed under the Apache License, Version 2.0 (the \"License\");\n",
              "// you may not use this file except in compliance with the License.\n",
              "// You may obtain a copy of the License at\n",
              "//\n",
              "//      http://www.apache.org/licenses/LICENSE-2.0\n",
              "//\n",
              "// Unless required by applicable law or agreed to in writing, software\n",
              "// distributed under the License is distributed on an \"AS IS\" BASIS,\n",
              "// WITHOUT WARRANTIES OR CONDITIONS OF ANY KIND, either express or implied.\n",
              "// See the License for the specific language governing permissions and\n",
              "// limitations under the License.\n",
              "\n",
              "/**\n",
              " * @fileoverview Helpers for google.colab Python module.\n",
              " */\n",
              "(function(scope) {\n",
              "function span(text, styleAttributes = {}) {\n",
              "  const element = document.createElement('span');\n",
              "  element.textContent = text;\n",
              "  for (const key of Object.keys(styleAttributes)) {\n",
              "    element.style[key] = styleAttributes[key];\n",
              "  }\n",
              "  return element;\n",
              "}\n",
              "\n",
              "// Max number of bytes which will be uploaded at a time.\n",
              "const MAX_PAYLOAD_SIZE = 100 * 1024;\n",
              "\n",
              "function _uploadFiles(inputId, outputId) {\n",
              "  const steps = uploadFilesStep(inputId, outputId);\n",
              "  const outputElement = document.getElementById(outputId);\n",
              "  // Cache steps on the outputElement to make it available for the next call\n",
              "  // to uploadFilesContinue from Python.\n",
              "  outputElement.steps = steps;\n",
              "\n",
              "  return _uploadFilesContinue(outputId);\n",
              "}\n",
              "\n",
              "// This is roughly an async generator (not supported in the browser yet),\n",
              "// where there are multiple asynchronous steps and the Python side is going\n",
              "// to poll for completion of each step.\n",
              "// This uses a Promise to block the python side on completion of each step,\n",
              "// then passes the result of the previous step as the input to the next step.\n",
              "function _uploadFilesContinue(outputId) {\n",
              "  const outputElement = document.getElementById(outputId);\n",
              "  const steps = outputElement.steps;\n",
              "\n",
              "  const next = steps.next(outputElement.lastPromiseValue);\n",
              "  return Promise.resolve(next.value.promise).then((value) => {\n",
              "    // Cache the last promise value to make it available to the next\n",
              "    // step of the generator.\n",
              "    outputElement.lastPromiseValue = value;\n",
              "    return next.value.response;\n",
              "  });\n",
              "}\n",
              "\n",
              "/**\n",
              " * Generator function which is called between each async step of the upload\n",
              " * process.\n",
              " * @param {string} inputId Element ID of the input file picker element.\n",
              " * @param {string} outputId Element ID of the output display.\n",
              " * @return {!Iterable<!Object>} Iterable of next steps.\n",
              " */\n",
              "function* uploadFilesStep(inputId, outputId) {\n",
              "  const inputElement = document.getElementById(inputId);\n",
              "  inputElement.disabled = false;\n",
              "\n",
              "  const outputElement = document.getElementById(outputId);\n",
              "  outputElement.innerHTML = '';\n",
              "\n",
              "  const pickedPromise = new Promise((resolve) => {\n",
              "    inputElement.addEventListener('change', (e) => {\n",
              "      resolve(e.target.files);\n",
              "    });\n",
              "  });\n",
              "\n",
              "  const cancel = document.createElement('button');\n",
              "  inputElement.parentElement.appendChild(cancel);\n",
              "  cancel.textContent = 'Cancel upload';\n",
              "  const cancelPromise = new Promise((resolve) => {\n",
              "    cancel.onclick = () => {\n",
              "      resolve(null);\n",
              "    };\n",
              "  });\n",
              "\n",
              "  // Wait for the user to pick the files.\n",
              "  const files = yield {\n",
              "    promise: Promise.race([pickedPromise, cancelPromise]),\n",
              "    response: {\n",
              "      action: 'starting',\n",
              "    }\n",
              "  };\n",
              "\n",
              "  cancel.remove();\n",
              "\n",
              "  // Disable the input element since further picks are not allowed.\n",
              "  inputElement.disabled = true;\n",
              "\n",
              "  if (!files) {\n",
              "    return {\n",
              "      response: {\n",
              "        action: 'complete',\n",
              "      }\n",
              "    };\n",
              "  }\n",
              "\n",
              "  for (const file of files) {\n",
              "    const li = document.createElement('li');\n",
              "    li.append(span(file.name, {fontWeight: 'bold'}));\n",
              "    li.append(span(\n",
              "        `(${file.type || 'n/a'}) - ${file.size} bytes, ` +\n",
              "        `last modified: ${\n",
              "            file.lastModifiedDate ? file.lastModifiedDate.toLocaleDateString() :\n",
              "                                    'n/a'} - `));\n",
              "    const percent = span('0% done');\n",
              "    li.appendChild(percent);\n",
              "\n",
              "    outputElement.appendChild(li);\n",
              "\n",
              "    const fileDataPromise = new Promise((resolve) => {\n",
              "      const reader = new FileReader();\n",
              "      reader.onload = (e) => {\n",
              "        resolve(e.target.result);\n",
              "      };\n",
              "      reader.readAsArrayBuffer(file);\n",
              "    });\n",
              "    // Wait for the data to be ready.\n",
              "    let fileData = yield {\n",
              "      promise: fileDataPromise,\n",
              "      response: {\n",
              "        action: 'continue',\n",
              "      }\n",
              "    };\n",
              "\n",
              "    // Use a chunked sending to avoid message size limits. See b/62115660.\n",
              "    let position = 0;\n",
              "    do {\n",
              "      const length = Math.min(fileData.byteLength - position, MAX_PAYLOAD_SIZE);\n",
              "      const chunk = new Uint8Array(fileData, position, length);\n",
              "      position += length;\n",
              "\n",
              "      const base64 = btoa(String.fromCharCode.apply(null, chunk));\n",
              "      yield {\n",
              "        response: {\n",
              "          action: 'append',\n",
              "          file: file.name,\n",
              "          data: base64,\n",
              "        },\n",
              "      };\n",
              "\n",
              "      let percentDone = fileData.byteLength === 0 ?\n",
              "          100 :\n",
              "          Math.round((position / fileData.byteLength) * 100);\n",
              "      percent.textContent = `${percentDone}% done`;\n",
              "\n",
              "    } while (position < fileData.byteLength);\n",
              "  }\n",
              "\n",
              "  // All done.\n",
              "  yield {\n",
              "    response: {\n",
              "      action: 'complete',\n",
              "    }\n",
              "  };\n",
              "}\n",
              "\n",
              "scope.google = scope.google || {};\n",
              "scope.google.colab = scope.google.colab || {};\n",
              "scope.google.colab._files = {\n",
              "  _uploadFiles,\n",
              "  _uploadFilesContinue,\n",
              "};\n",
              "})(self);\n",
              "</script> "
            ]
          },
          "metadata": {}
        },
        {
          "output_type": "stream",
          "name": "stdout",
          "text": [
            "Saving intents.json to intents (1).json\n"
          ]
        }
      ]
    },
    {
      "cell_type": "code",
      "source": [
        "intents"
      ],
      "metadata": {
        "colab": {
          "base_uri": "https://localhost:8080/"
        },
        "id": "jgHXfdtFA6zn",
        "outputId": "e6ef3f15-b8fe-49cd-ce3d-72b26eae1c70"
      },
      "execution_count": null,
      "outputs": [
        {
          "output_type": "execute_result",
          "data": {
            "text/plain": [
              "{'intents': [{'tag': 'greeting',\n",
              "   'patterns': ['Hi', 'How are you', 'Is anyone there?', 'Hello', 'Good day'],\n",
              "   'responses': ['Hello, thanks for visiting',\n",
              "    'Good to see you again',\n",
              "    'Hi there, how can I help?'],\n",
              "   'context_set': ''},\n",
              "  {'tag': 'goodbye',\n",
              "   'patterns': ['Bye', 'See you later', 'Goodbye'],\n",
              "   'responses': ['See you later, thanks for visiting',\n",
              "    'Have a nice day',\n",
              "    'Bye! Come back again soon.']},\n",
              "  {'tag': 'thanks',\n",
              "   'patterns': ['Thanks', 'Thank you', \"That's helpful\"],\n",
              "   'responses': ['Happy to help!', 'Any time!', 'My pleasure']},\n",
              "  {'tag': 'chatbot',\n",
              "   'patterns': ['Who built this chatbot?',\n",
              "    'Tell me about Chatbot',\n",
              "    'What is this chatbot name?'],\n",
              "   'responses': ['Hi, I am Chatbot designed by Arul.',\n",
              "    'Thanks for asking. I am designed by Arul.',\n",
              "    'I am a chatbot.']},\n",
              "  {'tag': 'location',\n",
              "   'patterns': ['What is your location?',\n",
              "    'Where are you located?',\n",
              "    'What is your address?'],\n",
              "   'responses': [\"We are from World's largest Democracy India.\",\n",
              "    'You can visit India to meet us',\n",
              "    'Thanks for your Interest. I live in India.']},\n",
              "  {'tag': 'connect',\n",
              "   'patterns': ['Give me your social media accounts link',\n",
              "    'Where can we connect',\n",
              "    'How can i reach out to you?',\n",
              "    'Is there any way we can connect'],\n",
              "   'responses': ['https://www.linkedin.com/in/aruldhakshanamoorthi7/']},\n",
              "  {'tag': 'movies',\n",
              "   'patterns': ['Which is your favourite movie?',\n",
              "    'Suggest me some movies',\n",
              "    'Recommend movies'],\n",
              "   'responses': ['Your name',\n",
              "    'Interstellar',\n",
              "    'Matrix',\n",
              "    'KGF 1 and KGF 2 ',\n",
              "    'Pele the birth of legend',\n",
              "    'Nanban',\n",
              "    'Anbe Sivam',\n",
              "    'Graves of fireflies']},\n",
              "  {'tag': 'about',\n",
              "   'patterns': ['Who are you?', 'Tell me about Yourself', 'What is this?'],\n",
              "   'responses': ['Hi, I am Arul. Nice to meet you. I made this chatbot for fun and practice.',\n",
              "    'Thanks for asking. I am Arul, coder by profession but ML enthusiast by passion.']}]}"
            ]
          },
          "metadata": {},
          "execution_count": 10
        }
      ]
    },
    {
      "cell_type": "code",
      "source": [
        "#Data preprocessing\n",
        "words=[]\n",
        "classes=[]\n",
        "documents=[]\n",
        "ignore=['?']"
      ],
      "metadata": {
        "id": "yVtc9-DzA-yp"
      },
      "execution_count": null,
      "outputs": []
    },
    {
      "cell_type": "markdown",
      "source": [
        "**Tokenizing**"
      ],
      "metadata": {
        "id": "w3zaUV9QBlha"
      }
    },
    {
      "cell_type": "code",
      "source": [
        "#loop through each sentences in the intent's pattern\n",
        "for intent in intents['intents']:\n",
        "  for pattern in intent['patterns']:\n",
        "    #Tokenize each word by removing the suffix or prefixes\n",
        "    w=nltk.word_tokenize(pattern)\n",
        "    #add word to the words list\n",
        "    words.extend(w)\n",
        "    #add words to documents\n",
        "    documents.append((w,intent['tag']))\n",
        "    #add tags to our classes list\n",
        "    if intent['tag'] not in classes:\n",
        "      classes.append(intent['tag'])"
      ],
      "metadata": {
        "id": "NLcEMydsBguF"
      },
      "execution_count": null,
      "outputs": []
    },
    {
      "cell_type": "markdown",
      "source": [
        "**perform stemming and lower each words as well as removing duplicates**"
      ],
      "metadata": {
        "id": "Hfd3Yckp1XVH"
      }
    },
    {
      "cell_type": "code",
      "source": [
        "words=[stemmer.stem(w.lower()) for w in words if w not in ignore ]\n",
        "words=sorted(list(set(words)))\n",
        "print(words)\n",
        "print(len(words),'words')\n",
        "print(len(documents),'documents')\n",
        "print(len(classes),'classes')"
      ],
      "metadata": {
        "colab": {
          "base_uri": "https://localhost:8080/"
        },
        "id": "ojHZDUU7yKMb",
        "outputId": "3287864c-fa45-4c69-b55e-58fa8d8a1286"
      },
      "execution_count": null,
      "outputs": [
        {
          "output_type": "stream",
          "name": "stdout",
          "text": [
            "[\"'s\", 'about', 'account', 'address', 'ani', 'anyon', 'are', 'built', 'bye', 'can', 'chatbot', 'connect', 'day', 'favourit', 'give', 'good', 'goodbi', 'goodby', 'hello', 'help', 'hi', 'how', 'i', 'is', 'later', 'link', 'locat', 'me', 'media', 'movi', 'name', 'out', 'reach', 'recommend', 'see', 'social', 'some', 'suggest', 'tell', 'thank', 'that', 'there', 'thi', 'to', 'way', 'we', 'what', 'where', 'which', 'who', 'you', 'your', 'yourself']\n",
            "53 words\n",
            "54 documents\n",
            "8 classes\n"
          ]
        }
      ]
    },
    {
      "cell_type": "markdown",
      "source": [
        "**creating and training the model**"
      ],
      "metadata": {
        "id": "uBjZS60o3AWd"
      }
    },
    {
      "cell_type": "code",
      "source": [
        "training=[]  #traing data as x\n",
        "output=[] #testing data as y"
      ],
      "metadata": {
        "id": "TD0C8zLw2941"
      },
      "execution_count": null,
      "outputs": []
    },
    {
      "cell_type": "code",
      "source": [
        "output_empty=[0]*len(classes)"
      ],
      "metadata": {
        "id": "0UC49hWv3Vrz"
      },
      "execution_count": null,
      "outputs": []
    },
    {
      "cell_type": "code",
      "source": [
        "# creating training set ,bag of words for each sentence\n",
        "for doc in documents:\n",
        "  #intialize bag of words\n",
        "  bag=[]\n",
        "  #list of tokenized words for the pattern\n",
        "  pattern_words=doc[0]\n",
        "  #stemming each words\n",
        "  pattern_words=[stemmer.stem(word.lower()) for word in pattern_words]       #doubt...?\n",
        "  #Create bag of words array\n",
        "  for w in words:\n",
        "    bag.append(1) if w in pattern_words else bag.append(0)\n",
        "  output_row=list(output_empty)\n",
        "  output_row[classes.index(doc[1])]\n",
        "  training.append([bag,output_row])\n",
        "# shuffling features and turning it into np.array\n",
        "random.shuffle(training)\n",
        "training = np.array(training,dtype='object')\n",
        "\n",
        "# creating training lists\n",
        "train_x = list(training[:,0])\n",
        "train_y = list(training[:,1])\n"
      ],
      "metadata": {
        "id": "itc5Thry3mk0"
      },
      "execution_count": null,
      "outputs": []
    },
    {
      "cell_type": "code",
      "source": [
        "model=tf.keras.Sequential()\n",
        "model.add(tf.keras.layers.Dense(10,input_shape=(len(train_x[0]),)))\n",
        "model.add(tf.keras.layers.Dense(10))\n",
        "model.add(tf.keras.layers.Dense(len(train_y[0]),activation=\"softmax\"))\n",
        "model.compile(tf.keras.optimizers.Adam(),loss='categorical_crossentropy',metrics=['accuracy'])\n",
        "#train a model\n",
        "model.fit(np.array(train_x),np.array(train_y),epochs=100,batch_size=8,verbose=1)\n",
        "model.save('model.pkl')"
      ],
      "metadata": {
        "colab": {
          "base_uri": "https://localhost:8080/"
        },
        "id": "NwmIcCIYAkzA",
        "outputId": "1c7c2791-35d1-4bce-d848-233bad6c0985"
      },
      "execution_count": null,
      "outputs": [
        {
          "output_type": "stream",
          "name": "stdout",
          "text": [
            "Epoch 1/100\n",
            "34/34 [==============================] - 1s 4ms/step - loss: 0.0000e+00 - accuracy: 0.0741\n",
            "Epoch 2/100\n",
            "34/34 [==============================] - 0s 3ms/step - loss: 0.0000e+00 - accuracy: 0.0741\n",
            "Epoch 3/100\n",
            "34/34 [==============================] - 0s 3ms/step - loss: 0.0000e+00 - accuracy: 0.0741\n",
            "Epoch 4/100\n",
            "34/34 [==============================] - 0s 3ms/step - loss: 0.0000e+00 - accuracy: 0.0741\n",
            "Epoch 5/100\n",
            "34/34 [==============================] - 0s 3ms/step - loss: 0.0000e+00 - accuracy: 0.0889\n",
            "Epoch 6/100\n",
            "34/34 [==============================] - 0s 3ms/step - loss: 0.0000e+00 - accuracy: 0.1111\n",
            "Epoch 7/100\n",
            "34/34 [==============================] - 0s 2ms/step - loss: 0.0000e+00 - accuracy: 0.0667\n",
            "Epoch 8/100\n",
            "34/34 [==============================] - 0s 3ms/step - loss: 0.0000e+00 - accuracy: 0.0407\n",
            "Epoch 9/100\n",
            "34/34 [==============================] - 0s 3ms/step - loss: 0.0000e+00 - accuracy: 0.0296\n",
            "Epoch 10/100\n",
            "34/34 [==============================] - 0s 3ms/step - loss: 0.0000e+00 - accuracy: 0.0222\n",
            "Epoch 11/100\n",
            "34/34 [==============================] - 0s 3ms/step - loss: 0.0000e+00 - accuracy: 0.0185\n",
            "Epoch 12/100\n",
            "34/34 [==============================] - 0s 3ms/step - loss: 0.0000e+00 - accuracy: 0.0222\n",
            "Epoch 13/100\n",
            "34/34 [==============================] - 0s 3ms/step - loss: 0.0000e+00 - accuracy: 0.0148\n",
            "Epoch 14/100\n",
            "34/34 [==============================] - 0s 4ms/step - loss: 0.0000e+00 - accuracy: 0.0259\n",
            "Epoch 15/100\n",
            "34/34 [==============================] - 0s 3ms/step - loss: 0.0000e+00 - accuracy: 0.0259\n",
            "Epoch 16/100\n",
            "34/34 [==============================] - 0s 3ms/step - loss: 0.0000e+00 - accuracy: 0.0259\n",
            "Epoch 17/100\n",
            "34/34 [==============================] - 0s 3ms/step - loss: 0.0000e+00 - accuracy: 0.0148\n",
            "Epoch 18/100\n",
            "34/34 [==============================] - 0s 4ms/step - loss: 0.0000e+00 - accuracy: 0.0074\n",
            "Epoch 19/100\n",
            "34/34 [==============================] - 0s 3ms/step - loss: 0.0000e+00 - accuracy: 0.0296\n",
            "Epoch 20/100\n",
            "34/34 [==============================] - 0s 3ms/step - loss: 0.0000e+00 - accuracy: 0.0148\n",
            "Epoch 21/100\n",
            "34/34 [==============================] - 0s 3ms/step - loss: 0.0000e+00 - accuracy: 0.0333\n",
            "Epoch 22/100\n",
            "34/34 [==============================] - 0s 3ms/step - loss: 0.0000e+00 - accuracy: 0.0296\n",
            "Epoch 23/100\n",
            "34/34 [==============================] - 0s 3ms/step - loss: 0.0000e+00 - accuracy: 0.0222\n",
            "Epoch 24/100\n",
            "34/34 [==============================] - 0s 3ms/step - loss: 0.0000e+00 - accuracy: 0.0259\n",
            "Epoch 25/100\n",
            "34/34 [==============================] - 0s 3ms/step - loss: 0.0000e+00 - accuracy: 0.0296\n",
            "Epoch 26/100\n",
            "34/34 [==============================] - 0s 3ms/step - loss: 0.0000e+00 - accuracy: 0.0185\n",
            "Epoch 27/100\n",
            "34/34 [==============================] - 0s 3ms/step - loss: 0.0000e+00 - accuracy: 0.0222\n",
            "Epoch 28/100\n",
            "34/34 [==============================] - 0s 3ms/step - loss: 0.0000e+00 - accuracy: 0.0296\n",
            "Epoch 29/100\n",
            "34/34 [==============================] - 0s 3ms/step - loss: 0.0000e+00 - accuracy: 0.0407\n",
            "Epoch 30/100\n",
            "34/34 [==============================] - 0s 3ms/step - loss: 0.0000e+00 - accuracy: 0.0296\n",
            "Epoch 31/100\n",
            "34/34 [==============================] - 0s 3ms/step - loss: 0.0000e+00 - accuracy: 0.0407\n",
            "Epoch 32/100\n",
            "34/34 [==============================] - 0s 3ms/step - loss: 0.0000e+00 - accuracy: 0.0370\n",
            "Epoch 33/100\n",
            "34/34 [==============================] - 0s 3ms/step - loss: 0.0000e+00 - accuracy: 0.0556\n",
            "Epoch 34/100\n",
            "34/34 [==============================] - 0s 3ms/step - loss: 0.0000e+00 - accuracy: 0.0370\n",
            "Epoch 35/100\n",
            "34/34 [==============================] - 0s 3ms/step - loss: 0.0000e+00 - accuracy: 0.0333\n",
            "Epoch 36/100\n",
            "34/34 [==============================] - 0s 3ms/step - loss: 0.0000e+00 - accuracy: 0.0481\n",
            "Epoch 37/100\n",
            "34/34 [==============================] - 0s 4ms/step - loss: 0.0000e+00 - accuracy: 0.0444\n",
            "Epoch 38/100\n",
            "34/34 [==============================] - 0s 2ms/step - loss: 0.0000e+00 - accuracy: 0.0370\n",
            "Epoch 39/100\n",
            "34/34 [==============================] - 0s 2ms/step - loss: 0.0000e+00 - accuracy: 0.0333\n",
            "Epoch 40/100\n",
            "34/34 [==============================] - 0s 2ms/step - loss: 0.0000e+00 - accuracy: 0.0333\n",
            "Epoch 41/100\n",
            "34/34 [==============================] - 0s 2ms/step - loss: 0.0000e+00 - accuracy: 0.0333\n",
            "Epoch 42/100\n",
            "34/34 [==============================] - 0s 2ms/step - loss: 0.0000e+00 - accuracy: 0.0370\n",
            "Epoch 43/100\n",
            "34/34 [==============================] - 0s 2ms/step - loss: 0.0000e+00 - accuracy: 0.0444\n",
            "Epoch 44/100\n",
            "34/34 [==============================] - 0s 2ms/step - loss: 0.0000e+00 - accuracy: 0.0407\n",
            "Epoch 45/100\n",
            "34/34 [==============================] - 0s 2ms/step - loss: 0.0000e+00 - accuracy: 0.0519\n",
            "Epoch 46/100\n",
            "34/34 [==============================] - 0s 2ms/step - loss: 0.0000e+00 - accuracy: 0.0667\n",
            "Epoch 47/100\n",
            "34/34 [==============================] - 0s 2ms/step - loss: 0.0000e+00 - accuracy: 0.0481\n",
            "Epoch 48/100\n",
            "34/34 [==============================] - 0s 2ms/step - loss: 0.0000e+00 - accuracy: 0.0407\n",
            "Epoch 49/100\n",
            "34/34 [==============================] - 0s 2ms/step - loss: 0.0000e+00 - accuracy: 0.0370\n",
            "Epoch 50/100\n",
            "34/34 [==============================] - 0s 2ms/step - loss: 0.0000e+00 - accuracy: 0.0481\n",
            "Epoch 51/100\n",
            "34/34 [==============================] - 0s 2ms/step - loss: 0.0000e+00 - accuracy: 0.0481\n",
            "Epoch 52/100\n",
            "34/34 [==============================] - 0s 2ms/step - loss: 0.0000e+00 - accuracy: 0.0481\n",
            "Epoch 53/100\n",
            "34/34 [==============================] - 0s 2ms/step - loss: 0.0000e+00 - accuracy: 0.0481\n",
            "Epoch 54/100\n",
            "34/34 [==============================] - 0s 2ms/step - loss: 0.0000e+00 - accuracy: 0.0407\n",
            "Epoch 55/100\n",
            "34/34 [==============================] - 0s 2ms/step - loss: 0.0000e+00 - accuracy: 0.0519\n",
            "Epoch 56/100\n",
            "34/34 [==============================] - 0s 2ms/step - loss: 0.0000e+00 - accuracy: 0.0333\n",
            "Epoch 57/100\n",
            "34/34 [==============================] - 0s 2ms/step - loss: 0.0000e+00 - accuracy: 0.0519\n",
            "Epoch 58/100\n",
            "34/34 [==============================] - 0s 2ms/step - loss: 0.0000e+00 - accuracy: 0.0333\n",
            "Epoch 59/100\n",
            "34/34 [==============================] - 0s 2ms/step - loss: 0.0000e+00 - accuracy: 0.0444\n",
            "Epoch 60/100\n",
            "34/34 [==============================] - 0s 2ms/step - loss: 0.0000e+00 - accuracy: 0.0259\n",
            "Epoch 61/100\n",
            "34/34 [==============================] - 0s 2ms/step - loss: 0.0000e+00 - accuracy: 0.0852\n",
            "Epoch 62/100\n",
            "34/34 [==============================] - 0s 2ms/step - loss: 0.0000e+00 - accuracy: 0.0519\n",
            "Epoch 63/100\n",
            "34/34 [==============================] - 0s 2ms/step - loss: 0.0000e+00 - accuracy: 0.0407\n",
            "Epoch 64/100\n",
            "34/34 [==============================] - 0s 2ms/step - loss: 0.0000e+00 - accuracy: 0.1000\n",
            "Epoch 65/100\n",
            "34/34 [==============================] - 0s 2ms/step - loss: 0.0000e+00 - accuracy: 0.0407\n",
            "Epoch 66/100\n",
            "34/34 [==============================] - 0s 2ms/step - loss: 0.0000e+00 - accuracy: 0.0630\n",
            "Epoch 67/100\n",
            "34/34 [==============================] - 0s 2ms/step - loss: 0.0000e+00 - accuracy: 0.0333\n",
            "Epoch 68/100\n",
            "34/34 [==============================] - 0s 2ms/step - loss: 0.0000e+00 - accuracy: 0.0593\n",
            "Epoch 69/100\n",
            "34/34 [==============================] - 0s 2ms/step - loss: 0.0000e+00 - accuracy: 0.0519\n",
            "Epoch 70/100\n",
            "34/34 [==============================] - 0s 2ms/step - loss: 0.0000e+00 - accuracy: 0.0519\n",
            "Epoch 71/100\n",
            "34/34 [==============================] - 0s 2ms/step - loss: 0.0000e+00 - accuracy: 0.0556\n",
            "Epoch 72/100\n",
            "34/34 [==============================] - 0s 2ms/step - loss: 0.0000e+00 - accuracy: 0.0593\n",
            "Epoch 73/100\n",
            "34/34 [==============================] - 0s 2ms/step - loss: 0.0000e+00 - accuracy: 0.0704\n",
            "Epoch 74/100\n",
            "34/34 [==============================] - 0s 2ms/step - loss: 0.0000e+00 - accuracy: 0.0815\n",
            "Epoch 75/100\n",
            "34/34 [==============================] - 0s 2ms/step - loss: 0.0000e+00 - accuracy: 0.0481\n",
            "Epoch 76/100\n",
            "34/34 [==============================] - 0s 2ms/step - loss: 0.0000e+00 - accuracy: 0.0778\n",
            "Epoch 77/100\n",
            "34/34 [==============================] - 0s 2ms/step - loss: 0.0000e+00 - accuracy: 0.0704\n",
            "Epoch 78/100\n",
            "34/34 [==============================] - 0s 2ms/step - loss: 0.0000e+00 - accuracy: 0.0296\n",
            "Epoch 79/100\n",
            "34/34 [==============================] - 0s 2ms/step - loss: 0.0000e+00 - accuracy: 0.0815\n",
            "Epoch 80/100\n",
            "34/34 [==============================] - 0s 2ms/step - loss: 0.0000e+00 - accuracy: 0.0852\n",
            "Epoch 81/100\n",
            "34/34 [==============================] - 0s 2ms/step - loss: 0.0000e+00 - accuracy: 0.0630\n",
            "Epoch 82/100\n",
            "34/34 [==============================] - 0s 2ms/step - loss: 0.0000e+00 - accuracy: 0.0370\n",
            "Epoch 83/100\n",
            "34/34 [==============================] - 0s 2ms/step - loss: 0.0000e+00 - accuracy: 0.0926\n",
            "Epoch 84/100\n",
            "34/34 [==============================] - 0s 2ms/step - loss: 0.0000e+00 - accuracy: 0.0519\n",
            "Epoch 85/100\n",
            "34/34 [==============================] - 0s 2ms/step - loss: 0.0000e+00 - accuracy: 0.0741\n",
            "Epoch 86/100\n",
            "34/34 [==============================] - 0s 2ms/step - loss: 0.0000e+00 - accuracy: 0.0519\n",
            "Epoch 87/100\n",
            "34/34 [==============================] - 0s 2ms/step - loss: 0.0000e+00 - accuracy: 0.1296\n",
            "Epoch 88/100\n",
            "34/34 [==============================] - 0s 2ms/step - loss: 0.0000e+00 - accuracy: 0.0778\n",
            "Epoch 89/100\n",
            "34/34 [==============================] - 0s 2ms/step - loss: 0.0000e+00 - accuracy: 0.0519\n",
            "Epoch 90/100\n",
            "34/34 [==============================] - 0s 2ms/step - loss: 0.0000e+00 - accuracy: 0.0963\n",
            "Epoch 91/100\n",
            "34/34 [==============================] - 0s 2ms/step - loss: 0.0000e+00 - accuracy: 0.1037\n",
            "Epoch 92/100\n",
            "34/34 [==============================] - 0s 2ms/step - loss: 0.0000e+00 - accuracy: 0.0630\n",
            "Epoch 93/100\n",
            "34/34 [==============================] - 0s 2ms/step - loss: 0.0000e+00 - accuracy: 0.1444\n",
            "Epoch 94/100\n",
            "34/34 [==============================] - 0s 2ms/step - loss: 0.0000e+00 - accuracy: 0.0481\n",
            "Epoch 95/100\n",
            "34/34 [==============================] - 0s 2ms/step - loss: 0.0000e+00 - accuracy: 0.1519\n",
            "Epoch 96/100\n",
            "34/34 [==============================] - 0s 2ms/step - loss: 0.0000e+00 - accuracy: 0.1593\n",
            "Epoch 97/100\n",
            "34/34 [==============================] - 0s 2ms/step - loss: 0.0000e+00 - accuracy: 0.1333\n",
            "Epoch 98/100\n",
            "34/34 [==============================] - 0s 2ms/step - loss: 0.0000e+00 - accuracy: 0.1185\n",
            "Epoch 99/100\n",
            "34/34 [==============================] - 0s 2ms/step - loss: 0.0000e+00 - accuracy: 0.0481\n",
            "Epoch 100/100\n",
            "34/34 [==============================] - 0s 2ms/step - loss: 0.0000e+00 - accuracy: 0.1519\n"
          ]
        }
      ]
    },
    {
      "cell_type": "markdown",
      "source": [
        "**Making predictions using ChatBot**"
      ],
      "metadata": {
        "id": "utk-kf6Kr6R9"
      }
    },
    {
      "cell_type": "code",
      "source": [
        "import pickle\n",
        "pickle.dump({'words':words,'classes':classes},open('training_data','wb'))\n",
        "from keras.models import load_model\n",
        "model=load_model('model.pkl')"
      ],
      "metadata": {
        "id": "kfuIIclir4IH"
      },
      "execution_count": null,
      "outputs": []
    },
    {
      "cell_type": "code",
      "source": [
        "#restoring all the data Structures\n",
        "data=pickle.load(open('training_data','rb'))\n",
        "words=data['words']\n",
        "classes=data['classes']\n",
        "with open ('intents.json') as json_data:\n",
        "  intents=json.load(json_data)"
      ],
      "metadata": {
        "id": "ogLZSxlBs3xO"
      },
      "execution_count": null,
      "outputs": []
    },
    {
      "cell_type": "code",
      "source": [
        "def clean_up_sentence(sentence):\n",
        "  #tokenizing the pattern\n",
        "  sentence_words=nltk.word_tokenize(sentence)\n",
        "  #Stemming each word\n",
        "  sentence_words=[stemmer.stem(word.lower()) for word in sentence_words]\n",
        "  return sentence_words\n",
        "#returning bag of words array :0 or 1 for each word in bag that exists in the sentence\n",
        "def bow(sentence,words):\n",
        "  #tokenizing the pattern\n",
        "  sentence_words=clean_up_sentence(sentence)\n",
        "  #generating bag of words\n",
        "  bag=[0]*len(words)\n",
        "  for s in sentence_words:\n",
        "    for i,w in enumerate(words):\n",
        "      if w==s:\n",
        "        bag[i]=1\n",
        "  bag=np.array(bag)\n",
        "  return bag"
      ],
      "metadata": {
        "id": "v-AwnZKNtqII"
      },
      "execution_count": null,
      "outputs": []
    },
    {
      "cell_type": "code",
      "source": [
        "ERROR_THRESHOLD =0.30\n",
        "def classify(sentence):\n",
        "  #generate probabilities from the model\n",
        "  bag=bow(sentence,words)\n",
        "  results=model.predict(np.array([bag]))\n",
        "  #filter out predictions below threshold\n",
        "  results=[[i,r] for i,r in enumerate(results[0]) if r>ERROR_THRESHOLD]\n",
        "  #sort by strength of probibility\n",
        "  results.sort(key=lambda x:x[1],reverse=True)\n",
        "  return_list=[]\n",
        "  for r in results:\n",
        "    return_list.append((classes[r[0]],r[1]))\n",
        "  #return tuple of intent and probability\n",
        "  return return_list"
      ],
      "metadata": {
        "id": "vvlTs7GeuZt9"
      },
      "execution_count": null,
      "outputs": []
    },
    {
      "cell_type": "code",
      "source": [
        "def response(sentence):\n",
        "  results=classify(sentence)\n",
        "  #if we have a classification then find matching intent\n",
        "  if results:\n",
        "    #loop as long as there as matches to process\n",
        "    while results:\n",
        "      for i in intents['intents']:\n",
        "        #find a tag matching the first results\n",
        "        if i['tag']==results[0][0]:\n",
        "          #random response from the intent\n",
        "          return print(random.choice(i['responses']))\n",
        "      results.pop(0)\n"
      ],
      "metadata": {
        "id": "DYBzqofk2XSO"
      },
      "execution_count": null,
      "outputs": []
    },
    {
      "cell_type": "code",
      "source": [
        "response('Where is your located?')"
      ],
      "metadata": {
        "colab": {
          "base_uri": "https://localhost:8080/"
        },
        "id": "Jwzlr37K_DZo",
        "outputId": "7e6f96b1-d2b6-41ae-8622-de46ee7225a8"
      },
      "execution_count": null,
      "outputs": [
        {
          "output_type": "stream",
          "name": "stdout",
          "text": [
            "1/1 [==============================] - 0s 25ms/step\n",
            "I am a chatbot.\n"
          ]
        }
      ]
    }
  ]
}